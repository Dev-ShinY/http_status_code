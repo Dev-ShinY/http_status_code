{
 "cells": [
  {
   "cell_type": "code",
   "execution_count": 1,
   "id": "3471cc97",
   "metadata": {},
   "outputs": [],
   "source": [
    "import urllib.request as req\n",
    "import time"
   ]
  },
  {
   "cell_type": "markdown",
   "id": "44262a49",
   "metadata": {},
   "source": [
    "## image 다운"
   ]
  },
  {
   "cell_type": "code",
   "execution_count": 2,
   "id": "f561b3e0",
   "metadata": {},
   "outputs": [],
   "source": [
    "statusArr = [100, 101, 102, 103, 200, 201, 202, 203, 204, 206, 207, 300, 301, 302, 303, 304, 305, 307, 308, 400, 401, 402, 403, 404, 405, 406, 407, 408, 409, 410, 411, 412, 413, 414, 415, 416, 417, 418, 420, 421, 422, 423, 424, 425, 426, 428, 429, 431, 444, 450, 451, 497, 498, 499, 500, 501, 502, 503, 504, 506, 507, 508, 509, 510, 511, 521, 522, 523, 525, 530, 599]"
   ]
  },
  {
   "cell_type": "code",
   "execution_count": null,
   "id": "ae8acd4b",
   "metadata": {
    "scrolled": true
   },
   "outputs": [],
   "source": [
    "for img in statusArr: \n",
    "    download_file = req.urlretrieve(\"https://http.cat/\"+str(img), '../public/status-img/'+str(img)+'.jpg')\n",
    "    time.sleep(1)"
   ]
  },
  {
   "cell_type": "code",
   "execution_count": null,
   "id": "2465a2b6",
   "metadata": {},
   "outputs": [],
   "source": []
  }
 ],
 "metadata": {
  "kernelspec": {
   "display_name": "Python 3 (ipykernel)",
   "language": "python",
   "name": "python3"
  },
  "language_info": {
   "codemirror_mode": {
    "name": "ipython",
    "version": 3
   },
   "file_extension": ".py",
   "mimetype": "text/x-python",
   "name": "python",
   "nbconvert_exporter": "python",
   "pygments_lexer": "ipython3",
   "version": "3.11.1"
  }
 },
 "nbformat": 4,
 "nbformat_minor": 5
}
