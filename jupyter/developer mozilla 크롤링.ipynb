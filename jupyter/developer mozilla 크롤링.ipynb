{
 "cells": [
  {
   "cell_type": "code",
   "execution_count": 137,
   "id": "4c071aef",
   "metadata": {},
   "outputs": [],
   "source": [
    "from urllib.request import urlopen\n",
    "from bs4 import BeautifulSoup\n",
    "from time import sleep\n",
    "import json\n",
    "from collections import OrderedDict\n",
    "from tqdm.notebook import tqdm"
   ]
  },
  {
   "cell_type": "code",
   "execution_count": 3,
   "id": "301309f2",
   "metadata": {},
   "outputs": [],
   "source": [
    "main_url = \"https://developer.mozilla.org/ko/docs/Web/HTTP/Status\" \n",
    "main_response = urlopen(main_url)"
   ]
  },
  {
   "cell_type": "code",
   "execution_count": 4,
   "id": "fdc07ca8",
   "metadata": {},
   "outputs": [],
   "source": [
    "soup = BeautifulSoup(main_response, \"html.parser\")"
   ]
  },
  {
   "cell_type": "code",
   "execution_count": 5,
   "id": "a1a8cccf",
   "metadata": {},
   "outputs": [],
   "source": [
    "main_value = soup.select('div.section-content')"
   ]
  },
  {
   "cell_type": "code",
   "execution_count": 76,
   "id": "fb0deba5",
   "metadata": {
    "scrolled": true
   },
   "outputs": [],
   "source": [
    "dl_all = []\n",
    "a_all = []\n",
    "\n",
    "for i in main_value :\n",
    "    dl_all.append(i.select('dl'))\n",
    "    \n",
    "for dl in dl_all:\n",
    "    for i in dl: \n",
    "        a_all.append(i.select('a'))"
   ]
  },
  {
   "cell_type": "code",
   "execution_count": 99,
   "id": "c79a2e6e",
   "metadata": {
    "scrolled": true
   },
   "outputs": [],
   "source": [
    "href_all = []\n",
    "for a in a_all:\n",
    "    for i in a:\n",
    "        href_all.append(i.attrs['href'])"
   ]
  },
  {
   "cell_type": "code",
   "execution_count": 100,
   "id": "21f7c565",
   "metadata": {},
   "outputs": [],
   "source": [
    "statusArr = [100, 101, 102, 103, 200, 201, 202, 203, 204, 206, 207, 300, 301, 302, 303, 304, 305, 307, 308, 400, 401, 402, 403, 404, 405, 406, 407, 408, 409, 410, 411, 412, 413, 414, 415, 416, 417, 418, 420, 421, 422, 423, 424, 425, 426, 428, 429, 431, 444, 450, 451, 497, 498, 499, 500, 501, 502, 503, 504, 506, 507, 508, 509, 510, 511, 521, 522, 523, 525, 530, 599]"
   ]
  },
  {
   "cell_type": "code",
   "execution_count": 108,
   "id": "92b22593",
   "metadata": {},
   "outputs": [],
   "source": [
    "urls = []\n",
    "for href in href_all:\n",
    "    try:\n",
    "        last_num = int(href.split(\"/\")[-1])\n",
    "    except:\n",
    "        last_num = None\n",
    "    if last_num in statusArr :\n",
    "        urls.append(href)  "
   ]
  },
  {
   "cell_type": "code",
   "execution_count": 143,
   "id": "e45b1b33",
   "metadata": {},
   "outputs": [
    {
     "data": {
      "application/vnd.jupyter.widget-view+json": {
       "model_id": "bb496c19ee4446b4a8c850489be0a0cc",
       "version_major": 2,
       "version_minor": 0
      },
      "text/plain": [
       "  0%|          | 0/55 [00:00<?, ?it/s]"
      ]
     },
     "metadata": {},
     "output_type": "display_data"
    },
    {
     "name": "stdout",
     "output_type": "stream",
     "text": [
      "[{'key': 100, 'title': '100 Continue', 'des': '\\n  HTTP 100 Continue 정보 상태 응답 코드는 클라이언트가 서버로 보낸 요청에 문제가 없으니 다음 요청을\\n  이어서 보내도 된다는 것을 의미합니다. 만약 클라이언트의 작업이 완료되었다면 이 응답은 무시해도 됩니다.\\n\\n\\n  클라이언트가 서버로 하여금 이를 검토하게 하려면 첫 번째 요청에서 Expect:100-continue를\\n  헤더로 보내야 합니다. 이후, 클라이언트는 본문을 보내기 전에 서버가 100 Continue 상태 코드로 응답하길 기다려야 합니다.\\n'}, {'key': 101, 'title': '101 Switching Protocols', 'des': '\\n  HTTP 101 Switching Protocols 응답 코드는 서버가 전환되는 프로토콜을 가리킵니다. 프로토콜은\\n  클라이언트로부터 받은 Upgrade (en-US) 헤더에 명시되어 있습니다.\\n\\n\\n  서버는 이 응답에 전환된 프로토콜을 나타내는 Upgrade (en-US) 헤더를 포함합니다. 이 절차는\\n  프로토콜 업그레이드 메커니즘 (en-US) 문서에 설명되어 있습니다.\\n'}, {'key': 102, 'title': '102 Processing', 'des': \"Deprecated: This feature is no longer recommended. Though some browsers might still support it, it may have already been removed from the relevant web standards, may be in the process of being dropped, or may only be kept for compatibility purposes. Avoid using it, and update existing code if possible; see the compatibility table at the bottom of this page to guide your decision. Be aware that this feature may cease to work at any time.\\nThe HTTP 102 Processing informational status response code indicates to client that a full request has been received and the server is working on it.\\nThis status code is only sent if the server expects the request to take significant time. It tells the client that your request is not dead yet.\\n\\nNote: This status code is deprecated and shouldn't be sent any more. Clients may still accept it, but simply ignore them.\\n\"}, {'key': 103, 'title': '103 Early Hints', 'des': 'Experimental: This is an experimental technologyCheck the Browser compatibility table carefully before using this in production.\\n\\n  HTTP 103 Early Hints 정보 상태 응답 코드는 서버가 응답을 준비하는 동안에도 사용자 에이전트가\\n  리소스를 미리읽어들일 수 있도록, 주로 Link (en-US) 헤더와 함께 사용됩니다.\\n'}, {'key': 200, 'title': '200 OK', 'des': 'HTTP 200 OK 는 요청이 성공했음을 나타내는 성공 응답 상태 코드입니다. 200 응답은 기본적으로 캐시 가능합니다.\\n성공의 의미는 다음과 같이 HTTP 요청 메서드에 따라 나뉩니다.\\n\\nGET: 리소스를 가져왔고 메시지 본문으로 전송되었다.\\nHEAD: 메시지 본문 없이 표현 헤더가 응답에 포함되어 있다\\nPOST: 리소스가 명시하는 행동의 결과가 메시지 본문에 전송되었다.\\nTRACE (en-US): 서버가 요청받은 메시지가 메시지 본문에 포함되어 있다.\\n\\nPUT 또는 DELETE의 성공 결과는 종종 200 OK가 아니라 204 No Content (리소스를 새로 생성한 경우 201 Created) 입니다.'}, {'key': 201, 'title': '201 Created', 'des': 'HTTP 201 Created 는 요청이 성공적으로 처리되었으며, 자원이 생성되었음을 나타내는 성공 상태 응답 코드입니다.\\n응답이 반환되기 이전에 새로운 리소스가 생성되며, 응답 메시지 본문에 새로 만들어진 리소스 혹은 리소스에 대한 링크를 메시지 본문에 넣어 반환합니다. 그 위치는 요청 URL 또는 Location (en-US) 헤더의 내용입니다.\\n이 상태 코드의 일반적인 사용 사례는 POST 요청에 대한 결과입니다.'}, {'key': 202, 'title': '202 Accepted', 'des': 'HTTP 202 Accepted 는 요청이 성공적으로 접수되었으나, 아직 해당 요청에 대해 처리 중이거나 처리 시작 전임을 의미합니다. 요청이 처리 중 실패할 수도 있기 때문에 요청은 실행될 수도 실행되지 않을수도 있습니다.\\n이 상태 코드는 비확약적, 즉 HTTP가 나중에 요청 처리 결과를 나타내는 비동기 응답을 보낼 방법이 없다는 것을 의미합니다. 이는 다른 프로세스나 서버가 요청을 처리하는 경우 또는 일괄 처리를 위한 것입니다.'}, {'key': 203, 'title': '203 Non-Authoritative Information', 'des': \"\\n  The HTTP 203 Non-Authoritative Information response\\n  status indicates that the request was successful but the enclosed payload has been\\n  modified by a transforming proxy from that of the origin\\n  server's 200 (OK) response.\\n\\n\\n  The 203 response is similar to the value\\n  214,\\n  meaning Transformation Applied, of the Warning header\\n  code, which has the additional advantage of being applicable to responses with any\\n  status code.\\n\"}, {'key': 204, 'title': '204 No Content', 'des': '\\n  HTTP 204 No Content 성공 상태 응답 코드는 요청이 성공했으나 클라이언트가\\n  현재 페이지에서 벗어나지 않아도 된다는 것을 나타냅니다.\\n\\n\\n  예를 들어 위키 사이트에 \"저장 후 편집 계속\" 기능을 구현할 때 사용할 수 있습니다.\\n  이 경우 PUT 요청을 사용하여 페이지를 저장하고 204 No Content 응답을 전송하여\\n  편집기를 다른 페이지로 대체해서는 안 된다는 것을 나타냅니다.\\n\\n기본값에서 204 응답은 캐시에 저장할 수 있습니다. 캐시에서 가져온 응답인 경우 ETag 헤더를 포함합니다.'}, {'key': 206, 'title': '206 Partial Content', 'des': 'HTTP 206 Partial Content 는 Range 헤더에 기술된 데이터 범위에 대한 요청이 성공적으로 응답되어 본문에 해당되는 데이터를 담고 있다는 것을 알려줍니다.\\n만약 단일 범위 요청을 한 경우에는 응답에 포함된 데이터의 타입은 Content-Type이며, Content-Range가 제공될 것입니다.\\n만약 다중 범위 요청에 대한 응답이라면, Content-Type는 multipart/byteranges로 되며 분할된 데이터의 응답은 Content-Range 와 Content-Type로 각각의 범위를 기술합니다.'}, {'key': 207, 'title': '207 Multi-Status', 'des': '\\n\\nNote: The ability to return a collection of resources is part of the WebDAV protocol (it may be received by web applications accessing a WebDAV server).\\n    Browsers accessing web pages will never encounter this status code.\\n  \\n\\nThe HTTP 207 Multi-Status response code indicates that there might be a mixture of responses.\\nThe response body is a text/xml or application/xml HTTP entity with a multistatus root element. The XML body will list all individual response codes.'}, {'key': 300, 'title': '300 Multiple Choices', 'des': '\\n  HTTP 300 Multiple Choices 리디렉션 상태 응답 코드는 요청에 가능한 응답이 두 개 이상 있음을 의미합니다.\\n  사용자 에이전트 또는 사용자는 둘 중 하나를 선택해야 합니다. 응답 중 하나를 선택하는 표준화된 방법이 없기 때문에 이\\n  응답 코드는 거의 사용되지 않습니다.\\n\\n서버는 선호하는 선택 항목이 있는 경우 Location (en-US)를 생성해야 합니다.'}, {'key': 301, 'title': '301 Moved Permanently', 'des': '\\n  HTTP 301 Moved Permanently 리다이렉트 상태 응답 코드는 요청한 리소스가\\n  Location (en-US) 헤더에 주어진 URL로 완전히 옮겨졌다는 것을 나타냅니다. 브라우저는 이 페이지로\\n  리다이렉트하고, 검색 엔진은 해당 리소스로 연결되는 링크를 갱신합니다.\\n\\n\\n\\nNote: 명세에서는 리다이렉트를 수행할 때 메서드와 본문이 변경되지 않아야 한다고 하지만, 모든 사용자 에이전트가 이 요구사항을\\n    충족하지 않습니다. 301 코드는 GET과 HEAD 메소드의 응답으로만 사용하고,\\n    POST 메소드에 대해서는 메소드 변경이 명시적으로 금지된\\n    308 Permanent Redirect (en-US) 사용이 바람직합니다.\\n  \\n'}, {'key': 302, 'title': '302 Found', 'des': \"\\n  HTTP(HyperText Transfer Protocol) 302 Found 리디렉션 상태 응답 코드는 요청한 리소스가\\n  Location (en-US) 헤더에 지정된 URL로 일시적으로 이동되었음을 나타냅니다. 브라우저는 이 페이지로\\n  리디렉션되지만 검색 엔진은 리소스에 대한 링크를 업데이트하지 않습니다('SEO-speak'에서는 'link-juice'가 새\\n  URL로 전송되지 않는다고 합니다).\\n\\n\\n  명세서에서 리디렉션이 수행될 때 메서드(및 본문)가 변경되지 않도록 요구하더라도 모든 사용자 에이전트가 이를 준수하는\\n  것은 아닙니다. 여러분은 여전히 이러한 유형의 버그가 있는 소프트웨어를 찾을 수 있습니다. 따라서 따라서 302 코드는\\n  GET 또는 HEAD 메서드에 대한 응답으로만 설정하고 이 경우 메서드\\n  변경이 명시적으로 금지되므로 307 Temporary Redirect 를 대신 사용하는 것이\\n  좋습니다.\\n\\n\\n  사용하던 메서드를 GET으로 변경하려는 경우,\\n  303 See Other을 대신 사용하십시오.\\n  PUT 메서드에 대한 응답을 업로드된 리소스가 아니라 'You successfully updown XYZ'와\\n  같은 확인 메시지로 주고 싶을때 유용합니다.\\n\"}, {'key': 303, 'title': '303 See Other', 'des': '\\n  HTTP(HyperText Transfer Protocol) 303 See Other 리디렉션 상태 응답 코드는 리디렉션이 요청한\\n  리소스 자체에 연결되지 않고 다른 페이지(예: 확인 페이지, 실제 개체 표시(HTTP range-14 참조) 또는 업로드 진행률 페이지)에 연결됨을 나타냅니다.\\n  이 응답 코드는 PUT 또는 POST의 결과로 다시 전송되는 경우가 많습니다.\\n  이 리디렉션 페이지를 표시하는 데 사용되는 방법은 항상 GET입니다.\\n'}, {'key': 304, 'title': '304 Not Modified', 'des': '클라이언트 리디렉션 응답 코드 304 Not Modified 는 요청된 리소스를 재전송할 필요가 없음을 나타낸다. 캐시된 자원으로의 암묵적인 리디렉션이다. 이 는 GET 나 HEAD 요청처럼 요청 방법이 안전 한 경우 또는 요청이 조건부로 If-None-Match (en-US) 또는 If-Modified-Since 헤더를 사용할 때 응답 된다.\\n이에 상응하는 200 OK 응답에는 Cache-Control, Content-Location, Date, ETag, Expires, 그리고 Vary 가 포함되어 있었을 것이다.\\n\\n참고: 브라우저의 개발자도구 네트워크 패널은 304 응답으로 이어지는 많은 요청을 생성하며, 로컬 캐시로 액세스 하는 것을 개발자에게 보여준다.\\n'}, {'key': 307, 'title': '307 Temporary Redirect', 'des': 'HTTP 307 Temporary Redirect 리다이렉트 상태 응답 코드는 요청한 리소스가 Location (en-US) 헤더에 주어진 URL 로 임시로 옮겨졌다는 것을 나타냅니다.\\n원래 요청한 메소드와 Body 를 재사용하여 요청을 리다이렉트 합니다. 여기서 메소드를 GET으로 바꾸기 위해서 303 See Other를 사용하시면 됩니다. 이것은 PUT요청에 업로드된 리소스가 아닌 \"You successfully uploaded XYZ\"와 같은 확인메시지 응답을 제공 하는데에 유용합니다.\\n307과 302가 유일하게 다른점은 307은 Method 와 Body 를 변경하지 않고 리다이렉트 요청을 하도록 보장합니다. 302응답으로 인하여 일부 오래된 클라이언트들은 메소드를 GET으로 틀리게 변경하였습니다. GET이 아닌 다른 메소드에 302동작은 웹에서 예상되지 않지만 307 동작은 예상할수 있습니다. GET 요청에 대해서는 동일하게 동작 합니다.'}, {'key': 308, 'title': '308 Permanent Redirect', 'des': \"\\n  The HyperText Transfer Protocol (HTTP)\\n  308 Permanent Redirect redirect status response code\\n  indicates that the resource requested has been definitively moved to the URL given by\\n  the Location headers. A browser redirects to this page and search\\n  engines update their links to the resource (in 'SEO-speak', it is said that the\\n  'link-juice' is sent to the new URL).\\n\\n\\n  The request method and the body will not be altered, whereas 301 may\\n  incorrectly sometimes be changed to a GET method.\\n\\n\\n\\nNote: Some Web applications may use the\\n    308 Permanent Redirect in a non-standard way and for other purposes. For\\n    example, Google Drive uses a 308 Resume Incomplete response to indicate\\n    to the client when an incomplete upload stalled. (See Perform a resumable download on Google Drive documentation.)\\n  \\n\"}, {'key': 400, 'title': '400 Bad Request', 'des': 'HyperText Transfer Protocol (HTTP) 400 Bad Request 응답 상태 코드는 서버가 클라이언트 오류(예: 잘못된 요청 구문, 유효하지 않은 요청 메시지 프레이밍, 또는 변조된 요청 라우팅) 를 감지해 요청을 처리할 수 없거나, 하지 않는다는 것을 의미합니다.\\n\\n경고: 클라이언트는 요청을 수정하지 않고 동일한 형태로 다시 보내서는 안됩니다.\\n'}, {'key': 401, 'title': '401 Unauthorized', 'des': '\\n  HTTP(하이퍼텍스트 전송 프로토콜) 401 Unauthorized 응답 상태 코드는 요청된 리소스에 대한\\n  유효한 인증 자격 증명이 없기 때문에 클라이언트 요청이 완료되지 않았음을 나타냅니다.\\n\\n\\n  이 상태 코드는 사용자에게 인증 자격 증명을 입력하라는 메시지를 표시한 후 클라이언트가 리소스를 다시 요청할 수 있는\\n  방법이 포함된 HTTP WWW-Authenticate (en-US) 응답 헤더와 함께 전송됩니다.\\n\\n\\n  이 상태 코드는 403 Forbidden 상태 코드와 유사합니다.\\n  다만 이 상태 코드가 발생하는 상황에서 사용자 인증을 통해 리소스에 대한 액세스를 허용할 수 있습니다.\\n'}, {'key': 403, 'title': '403 Forbidden', 'des': 'HTTP 403 Forbidden 클라이언트 오류 상태 응답 코드는 서버에 요청이 전달되었지만, 권한 때문에 거절되었다는 것을 의미합니다.\\n이 상태는 401과 비슷하지만, 로그인 로직(틀린 비밀번호로 로그인 행위)처럼 반응하여 재인증(re-authenticating)을 하더라도 지속적으로 접속을 거절합니다.'}, {'key': 404, 'title': '404 Not Found', 'des': '\\n  HTTP 404 Not Found 클라이언트 오류 응답 코드는 서버가 요청받은 리소스를 찾을 수 없다는 것을 의미합니다.\\n  404 페이지를 띄우는 링크는 대체로 브로큰 링크(broken link) 또는 데드 링크(dead link)라고 부르며,\\n  link rot 대상일 수도 있습니다.\\n\\n\\n  404 상태 코드는 리소스가 일시적, 또는 영구적으로 사라졌다는 것을 의미하지는 않습니다. 리소스가 영구적으로 삭제되었다면\\n  404 상태 코드 대신 410 (Gone) 상태 코드가 쓰여야 합니다.\\n'}, {'key': 405, 'title': '405 Method Not Allowed', 'des': '\\n  하이퍼텍스트 전송 프로토콜(HTTP)의 405 Method Not Allowed 응답 상태 코드는 서버가 요청 메서드를 알고 있지만\\n  대상 리소스가 이 메서드를 지원하지 않음을 가리킵니다.\\n\\n\\n  서버는 405 코드를 응답할 경우 반드시 Allow 헤더 필드를 생성해야 합니다. 이 필드에는 반드시 현재 대상 리소스에서\\n  지원하는 메서드의 리스트가 들어있어야 합니다.\\n'}, {'key': 406, 'title': '406 Not Acceptable', 'des': '하이퍼텍스트 전송 프로토콜(HTTP)의 406 Not Acceptable 클라이언트 에러 응답 코드는 서버가 요청의 주도적인 콘텐츠 협상 헤더에 정의된 허용 가능한 값 목록과 일치하는 응답을 생성할 수 없으며, 서버가 기본 표현을 제공하지 않음을 나타냅니다.\\n주도적인 콘텐츠 협상 헤더는 다음과 같습니다.\\n\\nAccept\\nAccept-Encoding\\nAccept-Language\\n\\n실제로 이 오류가 사용되는 경우는 거의 드뭅니다. 서버는 최종 사용자에게 이런 비밀스럽고 수정하기 어려운 오류 코드로 응답하는 대신, 관련 헤더를 무시하고 사용자에게 실제 페이지를 제공합니다. 사용자가 이 결과에 완벽하게 만족하진 않더라도, 에러 코드보다는 선호할 것입니다.\\n서버가 이러한 오류 상태를 반환하는 경우, 메시지 본문에는 사용 가능한 리소스 표현 목록이 포함되어야 하며, 사용자가 그 중에서 선택할 수 있어야 합니다.'}, {'key': 407, 'title': '407 Proxy Authentication Required', 'des': '\\n  The HTTP 407 Proxy Authentication Required client error\\n  status response code indicates that the request has not been applied because it lacks\\n  valid authentication credentials for a proxy server that is between the\\n  browser and the server that can access the requested resource.\\n\\n\\n  This status is sent with a Proxy-Authenticate header that contains\\n  information on how to authorize correctly.\\n'}, {'key': 408, 'title': '408 Request Timeout', 'des': 'HyperText Transfer Protocol (HTTP) 408 Request Timeout 응답 상태 코드는 서버가 사용하지 않는 연결을 끊고 싶다는 것을 의미한다. 서버가 클라이언트의 요청 없이도 유휴 상태의 연결에 전송한다.\\n408은 서버가 계속해서 기다리기보다는 연결을 종료하기로 결정했다는 것을 알려주기 때문에, 서버는 응답에 \"close\" Connection헤더 필드를 추가해서 전송해야한다.\\n크롬, 파이어폭스 27+, 그리고 인터넷 익스플로러 9와 같은 브라우저들이 서핑 속도를 높이기 위해 HTTP pre-connection 방식을 사용하기 때문에 이 응답이 더 많이 사용되고 있다.\\n\\n참고: Note: 어떤 서버들은 이 메세지를 전송하지 않고 연결을 종료할 수도 있다.\\n'}, {'key': 409, 'title': '409 Conflict', 'des': 'HTTP 409 Conflict 응답 상태 코드는 서버의 현재 상태와 요청이 충돌했음을 나타냅니다.\\n\\n  충돌은 PUT 요청에 대응하여 발생할 가능성이 가장 높습니다. 예를 들어 서버에 이미 있는 파일보다 오래된 파일을\\n  업로드하면 버전 제어 충돌이 발생하여 409 응답받을 수 있습니다.\\n'}, {'key': 410, 'title': '410 Gone', 'des': '\\n  하이퍼텍스트 전송 규약(HTTP) 410 Gone 클라이언트 에러 응답 코드는 원본 서버에서 대상 리소스에 대해 더 이상 접근할 수\\n  없으며, 이 상태가 영구적일 가능성이 있음을 의미합니다.\\n\\n이 상태가 일시적인지 영구적인지 알 수 없는 경우 404 상태 코드를 대신 사용해야 합니다.\\n\\n참고: 410 응답은 기본적으로 캐시 가능합니다.\\n'}, {'key': 411, 'title': '411 Length Required', 'des': '\\n  하이퍼텍스트 전송 규약(HTTP) 411 Length Required 클라이언트 오류 응답 코드는 서버가 정의된\\n  Content-Length 헤더 없이 요청을 수락하지 않음을 나타냅니다.\\n\\n\\n\\n참고: 사양에 따라 데이터를 일련의 큰 덩어리(chunk) 단위로 데이터를 전송할 때 Content-Length 헤더가 생략되며,\\n    각 청크의 시작 부분에서 현재 청크의 길이를 16진수 형식으로 추가해야 합니다. 자세한 내용은\\n    Transfer-Encoding을 참조하십시요.\\n  \\n'}, {'key': 412, 'title': '412 Precondition Failed', 'des': '\\n  The HyperText Transfer Protocol (HTTP)\\n  412 Precondition Failed client error response code\\n  indicates that access to the target resource has been denied. This happens with\\n  conditional requests on methods other than GET or\\n  HEAD when the condition defined by the\\n  If-Unmodified-Since or If-None-Match headers is not\\n  fulfilled. In that case, the request, usually an upload or a modification of a resource,\\n  cannot be made and this error response is sent back.\\n'}, {'key': 413, 'title': '413 Payload Too Large', 'des': 'HTTP 413 Payload Too Large 응답 상태 코드는 요청 엔터티가 서버에 의해 정의된 제한보다 크다는 것을 나타낸다. 서버가 연결을 닫거나 헤더 필드(Retry-After)를 반환할 수 있다.'}, {'key': 414, 'title': '414 URI Too Long', 'des': 'HTTP 414 URI Too Long 응답 코드는 클라이언트가 요청한 URI가 서버가 해석가능한 URI보다 더 길다는 것을 나타냅니다.\\n이 문제가 발생할 수 있는 몇 가지 보기 드문 상황이 있습니다.\\n\\n클라이언트가 POST 요청을 부적절하게 긴 쿼리 정보를 가진 GET 요청으로 변환한 경우\\n클라이언트가 리디렉션 루프(예: 자신의 접미사를 가리키는 리디렉션된 URI 접두사)에 빠진 경우\\n또는 서버의 잠재적인 보안 허점을 악용하려는 클라이언트의 공격을 받는 경우\\n'}, {'key': 415, 'title': '415 Unsupported Media Type', 'des': \"HTTP '415 지원되지 않는 미디어 유형' 클라이언트 오류 응답 코드는 클라이언트가 보낸 페이로드가 지원하지 않는 형식이기 때문에 서버가 요청을 수락하지 않음을 나타냅니다.\\n형식 문제는 요청에 표시된 Content-Type 또는 Content-Encoding으로 인해 발생하거나 데이터를 직접 검사한 결과 발생할 수 있습니다.\"}, {'key': 416, 'title': '416 Range Not Satisfiable', 'des': \"\\n  하이퍼텍스트 트랜스퍼 프로토콜(HTTP) 416 Range Not Satisfiable 에러 응답 코드는 서버가 요청받은 범위에\\n  대해서 서비스 할 수 없음을 알려줍니다. 아마도 이유는 그 문서가 그러한 범위를 지니고 있지 않거나, 또는\\n  Range 헤더 값이 문법적으로는 옳지만, 이해가 되지 않을 경우 그럴 수 있습니다.\\n\\n\\n  416 응답 메시지는 Content-Range 를 포함하여 만족할 수 없는 범위(그 경우 '*') 뒤에\\n  '/'와 현재 리소스를 알려줍니다. 예: Content-Range: */12777\\n\\n이 에러를 마주하면, 브라우저는 보통 명령을 취소하거나 전체 문서를 다시 요청합니다.\"}, {'key': 417, 'title': '417 Expectation Failed', 'des': \"\\n  The HTTP 417 Expectation Failed client error response\\n  code indicates that the expectation given in the request's Expect\\n  header could not be met.\\n\\nSee the Expect header for more details.\"}, {'key': 418, 'title': \"418 I'm a teapot\", 'des': \"HTTP 418 I'm a teapot 클라이언트 오류 응답 코드는 서버가 찻주전자이기 때문에 커피 내리기를 거절했다는 것을 의미합니다. 일시적으로 커피가 없는 커피/차 주전자는 대신 503을 반환해야 합니다. 이 오류는 1998년과 2014년 만우절 농담이었던 하이퍼 텍스트 커피 주전자 제어 규약(Hyper Text Coffee Pot Control Protocol)에 대한 참조입니다.\\n일부 웹사이트는 자동화된 쿼리와 같이 처리하고 싶지 않은 요청에 대해 이 응답을 사용합니다.\"}, {'key': 421, 'title': '421 Misdirected Request', 'des': 'The HTTP 421 Misdirected Request client error response code indicates that the request was directed to a server that is not able to produce a response. This might be possible if a connection is reused or if an alternative service is selected.'}, {'key': 422, 'title': '422 Unprocessable Entity', 'des': '이 응답은 서버가 요청을 이해하고 요청 문법도 올바르지만 요청된 지시를 따를 수 없음을 나타냅니다.\\n\\n경고: 중요: 클라이언트는 요청을 수정하지 않고 동일한 형태로 다시 보내서는 안됩니다.\\n'}, {'key': 423, 'title': '423 Locked', 'des': \"\\nNote: The ability to lock a resource is specific to some WebDAV servers. Browsers accessing web pages will never encounter this status code; in the erroneous cases it happens, they will handle it as a generic 400 status code.\\n\\nThe HTTP 423 Locked error response code indicates that either the resources tentatively targeted by is locked, meaning it can't be accessed. Its content should contain some information in WebDAV's XML format.\"}, {'key': 424, 'title': '424 Failed Dependency', 'des': 'The HTTP 424 Failed Dependency client error response code indicates that the method could not be performed on the resource because the requested action depended on another action, and that action failed.\\nRegular web servers will normally not return this status code. But some other protocols, like WebDAV, can return it. For example, in WebDAV, if a PROPPATCH request was issued, and one command fails then automatically every other command will also fail with 424 Failed Dependency.'}, {'key': 426, 'title': '426 Upgrade Required', 'des': '\\n  HTTP 426 Upgrade Required 클라이언트 에러 응답 코드는 서버가 현재 프로토콜을 사용하여 요청을 처리하는 것은\\n  거부하지만 클라이언트가 다른 프로토콜로 업그레이드한 후에는 요청을 수행할 의향이 있음을 나타냅니다.\\n\\n서버는 필요한 하나 이상의 프로토콜을 나타내기 위해 이 응답에 Upgrade (en-US) 헤더를 같이 보냅니다.'}, {'key': 428, 'title': '428 Precondition Required', 'des': '\\n  The HTTP 428 Precondition Required response status code\\n  indicates that the server requires the request to be conditional.\\n\\n\\n  Typically, this means that a required precondition header, such\\n  as If-Match, is missing.\\n\\n\\n  When a precondition header is not matching the server side state, the\\n  response should be 412 Precondition Failed.\\n'}, {'key': 429, 'title': '429 Too Many Requests', 'des': 'HTTP 429 Too Many Requests 응답 상태 코드는 사용자가 주어진 시간 동안 너무 많은 요청을 보냈음을 나타냅니다(\"속도 제한\").\\n새로운 요청을 하기 전에 얼마나 오래 대기해야 하는지를 알려주는 Retry-After 헤더가 이 응답에 포함될 수 있습니다.'}, {'key': 431, 'title': '431 Request Header Fields Too Large', 'des': 'HTTP 431 Request Header Fields Too Large 응답 코드는 HTTP 헤더의 크기가 너무 크기 때문에 처리가 불가능함을 알려준다. 요청 헤더의 크기를 줄인 후, 재요청을 할 수 있다.\\n431는 헤더 전체의 크기가 너무 크거나, 단일 헤더 필드가 너무 클 경우에 사용된다. 이 에러를 받는 유저를 위해 응답 body에 둘 중에 어느 경우인지 명시해줄 수 있다 — 이상적으로, 어느 헤더가 처리 불가능한지 알려주면 좋다. 그러면 쿠키를 삭제하는 것과 같이 유저가 문제를 해결할 수 있도록 도와준다.\\n서버가 431 상태 코드를 전송할 경우:\\n\\nReferer URL이 너무 긴 경우\\n요청에 많은 양의 Cookies 포함된 경우\\n'}, {'key': 451, 'title': '451 Unavailable For Legal Reasons', 'des': 'The HyperText Transfer Protocol (HTTP) 451 Unavailable For Legal Reasons client error response code indicates that the user requested a resource that is not available due to legal reasons, such as a web page for which a legal action has been issued.'}, {'key': 500, 'title': '500 Internal Server Error', 'des': '\\n  하이퍼텍스트 전송 프로토콜 (HTTP) 500 Internal Server Error 서버 에러 응답 코드는 요청을 처리하는\\n  과정에서 서버가 예상하지 못한 상황에 놓였다는 것을 나타냅니다.\\n\\n\\n  이 에러 응답은 \"서버 에러를 총칭하는\"(catch-all) 일반적인 응답입니다. 보통 이는 서버가 응답할 좀 더 좋은 5xx 에러 코드를\\n  못 찾은 것을 의미합니다. 종종 서버 관리자들은 미래에 같은 에러를 발생하는 것을 방지하기 위해 500 상태 코드 같은 에러 응답들에\\n  더 많은 자세한 내용을 남겨 둡니다.\\n'}, {'key': 501, 'title': '501 Not Implemented', 'des': '\\n  하이퍼텍스트 전송 프로토콜(HTTP) 501 Not Implemented 서버 응답 코드는\\n  요청을 수행할 수 있는 기능을 서버가 지원하지 않는다는 것을 의미합니다.\\n\\n\\n  서버에서 추후 기능이 지원된다면 요청자에게 다시 확인해볼 수 있는 시점을 알려줄 수 있도록\\n  Retry-After 헤더를 전송해줄 수 있습니다.\\n\\n\\n501 은 서버가 요청 방법을 이해하지 못하거나 어떤 리소스를 지원하지 않은 경우에 적절합니다. 서버가 필수적으로 지원하는 메서드에는\\n  GET 와 HEAD가 있습니다.\\n\\n\\n  서버가 메서드를 이해하지만 고의적으로 지원하지 않는 경우에는 405 Method Not Allowed\\n  응답이 적합합니다.\\n\\n\\n참고:\\n\\n501 오류는 사용자가 수정할 수 없고 접근하려는 서버에서 수정이 필요합니다.\\n캐시 헤더가 달리 지시가 있지 않는 이상, 501 응답은 기본적으로 캐시할 수 있습니다.\\n\\n'}, {'key': 502, 'title': '502 Bad Gateway', 'des': '하이퍼텍스트 전송 프로토콜(HTTP) 502 Bad Gateway 에러 응답코드는 서버가 게이트웨이나 프록시 서버 역할을 하면서 업스트림 서버로부터 유효하지 않은 응답을 받았다는 것을 의미합니다.\\n\\n참고: Gateway 는 네트워킹에서 다른 것을 가르킬 수 있고 502 에러는 보통 여러분이 수정할 수 있는 것이 아니지만, 여러분이 접근하려고 하는 웹 서버 혹은 프록시의 수정이 필요합니다.\\n'}, {'key': 503, 'title': '503 Service Unavailable', 'des': '하이퍼텍스트 전송 프로토콜(HTTP) 503 Service Unavailable 서버 에러 응답 코드는 서버가 요청을 처리할 준비가 되지 않은 것을 의미합니다.\\n흔하게는 서버가 점검을 위해 다운되거나 과부하 때문에 발생합니다. 이 응답은 일시적인 상황을 위해 사용되어야 하며, Retry-After HTTP 헤더는 가능하다면 서비스 복구를 위한 예상 시간을 포함해야 합니다.\\n\\n참고: 이 응답(response)과 함께, 이 문제에 대해 설명하는 사용자 친화적 페이지가 전달되어야 합니다.\\n\\n503 상태는 종종 일시적인 상황이며 응답은 일반적으로 캐시되지 않아야 하므로, 이 응답과 함께 전달되는 캐싱 관련 헤더들은 주의 깊게 다루어져야 합니다.'}, {'key': 504, 'title': '504 Gateway Timeout', 'des': '하이퍼텍스트 전송 프로토콜 (HTTP) 504 Gateway Timeout 서버 에러 응답 코드는 서버가 게이트웨이 혹은 프록시의 역할을 하는 동안 시간 안에 업스트림 서버(upstream server)로부터 요청을 마치기 위해 필요한 응답를 받지 못했음을 나타냅니다.\\n\\n참고: Gateway 는 네트워킹에서 다른 것을 가르킬 수 있고 504 에러는 보통 여러분이 수정할 수 있는 것이 아니지만, 여러분이 접근하려고 하는 웹 서버 혹은 프록시의 수정이 필요합니다.\\n'}, {'key': 506, 'title': '506 Variant Also Negotiates', 'des': 'The HyperText Transfer Protocol (HTTP) 506 Variant Also Negotiates response status code may be given in the context of Transparent Content Negotiation (see RFC 2295). This protocol enables a client to retrieve the best variant of a given resource, where the server supports multiple variants.\\nThe Variant Also Negotiates status code indicates an internal server configuration error in which the chosen variant is itself configured to engage in content negotiation, so is not a proper negotiation endpoint.'}, {'key': 507, 'title': '507 Insufficient Storage', 'des': 'The HyperText Transfer Protocol (HTTP) 507 Insufficient Storage response status code may be given in the context of the Web Distributed Authoring and Versioning (WebDAV) protocol (see RFC 4918).\\nIt indicates that a method could not be performed because the server cannot store the representation needed to successfully complete the request.'}, {'key': 508, 'title': '508 Loop Detected', 'des': '\\n  The HyperText Transfer Protocol (HTTP) 508 Loop Detected\\n  response status code may be given in the context of the Web Distributed Authoring and\\n  Versioning (WebDAV) protocol.\\n\\n\\n  It indicates that the server terminated an operation because it encountered an infinite\\n  loop while processing a request with \"Depth: infinity\". This status indicates that the\\n  entire operation failed.\\n'}, {'key': 510, 'title': '510 Not Extended', 'des': '\\n  The HyperText Transfer Protocol (HTTP) 510 Not Extended\\n  response status code is sent in the context of the HTTP Extension Framework, defined in\\n  RFC 2774.\\n\\n\\n  In that specification a client may send a request that contains an extension\\n  declaration, that describes the extension to be used. If the server receives such a\\n  request, but any described extensions are not supported for the request, then the server\\n  responds with the 510 status code.\\n'}, {'key': 511, 'title': '511 Network Authentication Required', 'des': '\\n  The HTTP 511 Network Authentication Required response\\n  status code indicates that the client needs to authenticate to gain network access.\\n\\n\\n  This status is not generated by origin servers, but by intercepting proxies that\\n  control access to the network.\\n\\n\\n  Network operators sometimes require some authentication, acceptance of terms, or other\\n  user interaction before granting access (for example in an internet café or at an\\n  airport). They often identify clients who have not done so using their Media Access\\n  Control (MAC) addresses.\\n'}]\n"
     ]
    }
   ],
   "source": [
    "json_data = []\n",
    "for url in tqdm(urls):\n",
    "    status_response = urlopen(\"https://developer.mozilla.org/\"+url)\n",
    "    soup = BeautifulSoup(status_response, \"html.parser\")\n",
    "    object_data = {}\n",
    "    object_data['key'] = int(url.split(\"/\")[-1])\n",
    "    object_data['title'] = soup.find('h1').text\n",
    "    object_data['des'] = soup.find('div', {'class': 'section-content'}).text\n",
    "    time.sleep(3) # 디도스 ip 벤 방지\n",
    "    json_data.append(object_data)\n",
    "    \n",
    "with open('./statusList.json', 'w', encoding=\"utf-8\") as outfile:\n",
    "    json.dump(json_data, outfile, indent=2, ensure_ascii=False)"
   ]
  }
 ],
 "metadata": {
  "kernelspec": {
   "display_name": "Python 3 (ipykernel)",
   "language": "python",
   "name": "python3"
  },
  "language_info": {
   "codemirror_mode": {
    "name": "ipython",
    "version": 3
   },
   "file_extension": ".py",
   "mimetype": "text/x-python",
   "name": "python",
   "nbconvert_exporter": "python",
   "pygments_lexer": "ipython3",
   "version": "3.11.1"
  }
 },
 "nbformat": 4,
 "nbformat_minor": 5
}
